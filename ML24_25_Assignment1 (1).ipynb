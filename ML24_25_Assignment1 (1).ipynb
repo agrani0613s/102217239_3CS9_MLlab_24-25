{
  "nbformat": 4,
  "nbformat_minor": 0,
  "metadata": {
    "colab": {
      "provenance": []
    },
    "kernelspec": {
      "name": "python3",
      "display_name": "Python 3"
    },
    "language_info": {
      "name": "python"
    }
  },
  "cells": [
    {
      "cell_type": "code",
      "source": [
        "import numpy as np"
      ],
      "metadata": {
        "id": "s_oirLCiR5hM"
      },
      "execution_count": 1,
      "outputs": []
    },
    {
      "cell_type": "code",
      "execution_count": null,
      "metadata": {
        "colab": {
          "base_uri": "https://localhost:8080/"
        },
        "id": "vQIx2XgBkorJ",
        "outputId": "452db777-9912-401c-ef11-9a2019e882bb",
        "collapsed": true
      },
      "outputs": [
        {
          "output_type": "stream",
          "name": "stdout",
          "text": [
            "[1 2 3 6 4 5]\n",
            "[5 4 6 3 2 1]\n"
          ]
        }
      ],
      "source": [
        "\n",
        "arr=np.array([1,2,3,6,4,5])\n",
        "print(arr)\n",
        "arr=np.flip(arr)\n",
        "print(arr)"
      ]
    },
    {
      "cell_type": "code",
      "source": [
        "arr=np.array([[1,2,3],[2,4,5],[1,2,3]])\n",
        "arf=arr.flatten()\n",
        "print(arf)"
      ],
      "metadata": {
        "colab": {
          "base_uri": "https://localhost:8080/"
        },
        "id": "5sX_8q2xmOSf",
        "outputId": "b06a22a1-981d-41f3-8493-7fd2e6f5d641",
        "collapsed": true
      },
      "execution_count": null,
      "outputs": [
        {
          "output_type": "stream",
          "name": "stdout",
          "text": [
            "[1 2 3 2 4 5 1 2 3]\n"
          ]
        }
      ]
    },
    {
      "cell_type": "code",
      "source": [
        "arr1=np.array([[1,2],[3,4]])\n",
        "arr2=np.array([[1,2],[3,4]])\n",
        "comparr=arr1==arr2\n",
        "eqarr=comparr.all()\n",
        "print(eqarr)"
      ],
      "metadata": {
        "colab": {
          "base_uri": "https://localhost:8080/"
        },
        "id": "rZyC3dOHnAjS",
        "outputId": "d4c4f70e-9454-41eb-8f28-f5c50979382f"
      },
      "execution_count": null,
      "outputs": [
        {
          "output_type": "stream",
          "name": "stdout",
          "text": [
            "True\n"
          ]
        }
      ]
    },
    {
      "cell_type": "code",
      "source": [
        "x=np.array([1,2,3,4,5,1,2,1,1,1,])\n",
        "print(x)\n",
        "\n",
        "print(\"Most Frequent value in the given array x:\")\n",
        "maxele=np.bincount(x).argmax()\n",
        "print(maxele)\n",
        "print(np.where(x==maxele)[0])\n",
        "\n"
      ],
      "metadata": {
        "colab": {
          "base_uri": "https://localhost:8080/"
        },
        "id": "kqh0XlpGoTKD",
        "outputId": "5756a5d0-336a-49a6-8c0b-1c940651f3e1",
        "collapsed": true
      },
      "execution_count": null,
      "outputs": [
        {
          "output_type": "stream",
          "name": "stdout",
          "text": [
            "Most Frequent value in the given array x:\n",
            "1\n",
            "[0 5 7 8 9]\n"
          ]
        }
      ]
    },
    {
      "cell_type": "code",
      "source": [
        "x=([1,1,1,2,3,4,2,4,3,3])\n",
        "print(x)\n",
        "print(\"Most frequent value in above array y\")\n",
        "y = np.bincount(x)\n",
        "#print(y)\n",
        "maxele = max(y)\n",
        "#print(maxele)\n",
        "\n",
        "for i in range(len(y)):\n",
        "    if y[i] == maxele:\n",
        "        print(i, np.where(x==y[i])[0])\n",
        "\n"
      ],
      "metadata": {
        "colab": {
          "base_uri": "https://localhost:8080/"
        },
        "id": "vOu3L9Sxqzcq",
        "outputId": "6239eebb-5cb3-41a9-dcee-94d908664b48",
        "collapsed": true
      },
      "execution_count": null,
      "outputs": [
        {
          "output_type": "stream",
          "name": "stdout",
          "text": [
            "Most frequent value in above array y\n",
            "1 [4 8 9]\n",
            "3 [4 8 9]\n"
          ]
        }
      ]
    },
    {
      "cell_type": "code",
      "source": [
        "gfg=np.matrix('[4,1,9;12,3,1;4,5,6]')\n",
        "print(gfg)\n",
        "print(np.sum(gfg))\n",
        "print(\"Sum of each row\", np.sum(gfg, axis=1))\n",
        "print(\"Sum of each column\", np.sum(gfg, axis=0))"
      ],
      "metadata": {
        "colab": {
          "base_uri": "https://localhost:8080/"
        },
        "id": "3qPV_okjueyD",
        "outputId": "ea9e1487-0e23-4a0b-d523-fdaacf0c623f",
        "collapsed": true
      },
      "execution_count": null,
      "outputs": [
        {
          "output_type": "stream",
          "name": "stdout",
          "text": [
            "[[ 4  1  9]\n",
            " [12  3  1]\n",
            " [ 4  5  6]]\n",
            "45\n",
            "Sum of each row [[14]\n",
            " [16]\n",
            " [15]]\n",
            "Sum of each column [[20  9 16]]\n"
          ]
        }
      ]
    },
    {
      "cell_type": "code",
      "source": [
        "n_array=np.mat([[55,25,15],[30,44,2],[11,45,77]])\n",
        "print(n_array)\n",
        "evalue, evect =np.linalg.eig(n_array)\n",
        "print(\"Eigen value of matrix: \", evalue)\n",
        "print(\"Eigen vectors of matrix: \", evect)\n"
      ],
      "metadata": {
        "colab": {
          "base_uri": "https://localhost:8080/"
        },
        "id": "wrdjLkXMzv0u",
        "outputId": "ece74ebb-4866-40d9-9ff6-5addb9a4dcce",
        "collapsed": true
      },
      "execution_count": null,
      "outputs": [
        {
          "output_type": "stream",
          "name": "stdout",
          "text": [
            "[[55 25 15]\n",
            " [30 44  2]\n",
            " [11 45 77]]\n",
            "Eigen value of matrix:  [98.16835147 28.097044   49.73460452]\n",
            "Eigen vectors of matrix:  [[ 0.4574917   0.34637121 -0.15017693]\n",
            " [ 0.28447814 -0.72784061 -0.4852124 ]\n",
            " [ 0.84248058  0.59184038  0.8614034 ]]\n"
          ]
        }
      ]
    },
    {
      "cell_type": "code",
      "source": [
        "print(\"Inverse of matrix:\", np.linalg.inv(n_array))\n",
        "print(\"Determinant of matirx: \", np.linalg.det(n_array))"
      ],
      "metadata": {
        "colab": {
          "base_uri": "https://localhost:8080/"
        },
        "id": "NGotX5F4CCz6",
        "outputId": "abca1db8-e3b1-43a6-b3a4-ec9f7d9f9d9b",
        "collapsed": true
      },
      "execution_count": null,
      "outputs": [
        {
          "output_type": "stream",
          "name": "stdout",
          "text": [
            "[[ 0.02404141 -0.00911212 -0.00444671]\n",
            " [-0.01667882  0.02966905  0.0024785 ]\n",
            " [ 0.00631287 -0.01603732  0.01217379]]\n",
            "137180.0000000001\n"
          ]
        }
      ]
    },
    {
      "cell_type": "code",
      "source": [
        "diag=np.diagonal(n_array)\n",
        "\n",
        "print(\"diagonal elements of are:\", diag)\n",
        "print(\"Sum of diagonal elements: \", sum(diag))"
      ],
      "metadata": {
        "id": "ei-TzocSyw0b",
        "colab": {
          "base_uri": "https://localhost:8080/"
        },
        "outputId": "1fa3fd14-cd2c-4017-f666-9e9fddb5053c"
      },
      "execution_count": null,
      "outputs": [
        {
          "output_type": "stream",
          "name": "stdout",
          "text": [
            "diagonal elements of are: [55 44 77]\n",
            "Sum of diagonal elements:  176\n"
          ]
        }
      ]
    },
    {
      "cell_type": "code",
      "source": [
        "p=np.matrix([[1, 2], [2, 3]] )\n",
        "q=np.matrix([[4, 5], [6, 7]] )\n",
        "\n",
        "res=np.dot(p,q)\n",
        "\n",
        "# res=p@q\n",
        "\n",
        "print(\"Dot product = \", res)\n",
        "print(\"Covariance: \", np.cov(p,q))"
      ],
      "metadata": {
        "colab": {
          "base_uri": "https://localhost:8080/"
        },
        "id": "hsffzEeb7lbv",
        "outputId": "0b752955-470e-47b3-aa51-f6fc4b39297e"
      },
      "execution_count": null,
      "outputs": [
        {
          "output_type": "stream",
          "name": "stdout",
          "text": [
            "Dot product =  [[16 19]\n",
            " [26 31]]\n",
            "Covariance:  [[0.5 0.5 0.5 0.5]\n",
            " [0.5 0.5 0.5 0.5]\n",
            " [0.5 0.5 0.5 0.5]\n",
            " [0.5 0.5 0.5 0.5]]\n"
          ]
        }
      ]
    },
    {
      "cell_type": "code",
      "source": [
        "p=np.matrix([[1, 2], [2, 3], [4, 5]]  )\n",
        "q=np.matrix([[4, 5, 1], [6, 7, 2]]  )\n",
        "\n",
        "res=np.dot(p,q)\n",
        "\n",
        "# res=p@q\n",
        "\n",
        "print(\"Dot product = \", res)\n",
        "# print(\"Covariance: \", np.cov(p,q)) covariance not possible as order is not same of p and q"
      ],
      "metadata": {
        "colab": {
          "base_uri": "https://localhost:8080/"
        },
        "collapsed": true,
        "id": "ibtP7R6V8_Ds",
        "outputId": "c0af6207-3e94-4640-fb58-8f781a096f20"
      },
      "execution_count": null,
      "outputs": [
        {
          "output_type": "stream",
          "name": "stdout",
          "text": [
            "Dot product =  [[16 19  5]\n",
            " [26 31  8]\n",
            " [46 55 14]]\n"
          ]
        }
      ]
    },
    {
      "cell_type": "code",
      "source": [
        "x = np.array([[2, 3, 4], [3, 2, 9]])\n",
        "y = np.array([[1, 5, 0], [5, 10, 3]])\n",
        "\n",
        "print(\"\\nInner product of matrices x and y =\")\n",
        "print(np.inner(x, y))\n",
        "print(\"\\nOuter product of matrices x and y =\")\n",
        "print(np.outer(x, y))\n",
        "\n",
        "x_flat = x.flatten()\n",
        "y_flat = y.flatten()\n",
        "\n",
        "result = np.transpose([np.tile(x_flat, len(y_flat)), np.repeat(y_flat, len(x_flat))])\n",
        "print(result)\n"
      ],
      "metadata": {
        "colab": {
          "base_uri": "https://localhost:8080/"
        },
        "collapsed": true,
        "id": "Oe8W1pca94Yr",
        "outputId": "134f340f-f5fa-40f7-d7a5-eb71a44708e8"
      },
      "execution_count": null,
      "outputs": [
        {
          "output_type": "stream",
          "name": "stdout",
          "text": [
            "\n",
            "Inner product of matrices x and y =\n",
            "[[17 52]\n",
            " [13 62]]\n",
            "\n",
            "Outer product of matrices x and y =\n",
            "[[ 2 10  0 10 20  6]\n",
            " [ 3 15  0 15 30  9]\n",
            " [ 4 20  0 20 40 12]\n",
            " [ 3 15  0 15 30  9]\n",
            " [ 2 10  0 10 20  6]\n",
            " [ 9 45  0 45 90 27]]\n",
            "[[ 2  1]\n",
            " [ 3  1]\n",
            " [ 4  1]\n",
            " [ 3  1]\n",
            " [ 2  1]\n",
            " [ 9  1]\n",
            " [ 2  5]\n",
            " [ 3  5]\n",
            " [ 4  5]\n",
            " [ 3  5]\n",
            " [ 2  5]\n",
            " [ 9  5]\n",
            " [ 2  0]\n",
            " [ 3  0]\n",
            " [ 4  0]\n",
            " [ 3  0]\n",
            " [ 2  0]\n",
            " [ 9  0]\n",
            " [ 2  5]\n",
            " [ 3  5]\n",
            " [ 4  5]\n",
            " [ 3  5]\n",
            " [ 2  5]\n",
            " [ 9  5]\n",
            " [ 2 10]\n",
            " [ 3 10]\n",
            " [ 4 10]\n",
            " [ 3 10]\n",
            " [ 2 10]\n",
            " [ 9 10]\n",
            " [ 2  3]\n",
            " [ 3  3]\n",
            " [ 4  3]\n",
            " [ 3  3]\n",
            " [ 2  3]\n",
            " [ 9  3]]\n"
          ]
        }
      ]
    },
    {
      "cell_type": "code",
      "source": [
        "array = np.array([[1, -2, 3],[-4, 5, -6]])\n",
        "print(\"Absolute values:\", np.absolute(array))\n",
        "\n",
        "farr=array.flatten()\n",
        "\n",
        "print(\"\\nFlattened Array:\")\n",
        "print(\"50th percentile of array : \",np.percentile(farr, 50))\n",
        "print(\"25th percentile of array : \",np.percentile(farr, 25))\n",
        "print(\"75th percentile of array : \",np.percentile(farr, 75))\n",
        "\n",
        "print(\"\\nEach Column:\")\n",
        "print(\"50th Percentile of arr, axis = 0 : \", np.percentile(array, 50, axis=0))\n",
        "print(\"25th Percentile of arr, axis = 0 : \", np.percentile(array,25, axis=0))\n",
        "print(\"75th Percentile of arr, axis = 0 : \", np.percentile(array,75, axis=0))\n",
        "\n",
        "print(\"\\nEach Column:\")\n",
        "print(\"\\n50th Percentile of arr, axis = 1 : \",np.percentile(array, 50, axis=1))\n",
        "print(\"25th Percentile of arr, axis = 1 : \",np.percentile(array, 25, axis=1))\n",
        "print(\"75th Percentile of arr, axis = 1 : \",np.percentile(array, 75, axis=1))\n",
        "\n",
        "print(\"\\nFlattened array:\")\n",
        "print(\"Mean: \", np.mean(farr))\n",
        "print(\"Median: \", np.median(farr))\n",
        "print(\"std: \", np.std(array))\n",
        "\n",
        "print(\"\\nEach Column:\")\n",
        "print(\"Mean: \", np.mean(array,axis=0))\n",
        "print(\"Median: \", np.median(array,axis=0))\n",
        "print(\"std: \", np.std(array,axis=0))\n",
        "\n",
        "print(\"\\nEach Row:\")\n",
        "print(\"Mean: \", np.mean(array,axis=1))\n",
        "print(\"Median: \", np.median(array,axis=1))\n",
        "print(\"std: \", np.std(array,axis=1))"
      ],
      "metadata": {
        "colab": {
          "base_uri": "https://localhost:8080/"
        },
        "collapsed": true,
        "id": "ZePyogvDDw5l",
        "outputId": "0cc48057-b91d-4bf0-c235-b3ffb4db1622"
      },
      "execution_count": null,
      "outputs": [
        {
          "output_type": "stream",
          "name": "stdout",
          "text": [
            "Absolute values: [[1 2 3]\n",
            " [4 5 6]]\n",
            "\n",
            "Flattened Array:\n",
            "50th percentile of array :  -0.5\n",
            "25th percentile of array :  -3.5\n",
            "75th percentile of array :  2.5\n",
            "\n",
            "Each Column:\n",
            "50th Percentile of arr, axis = 0 :  [-1.5  1.5 -1.5]\n",
            "25th Percentile of arr, axis = 0 :  [-2.75 -0.25 -3.75]\n",
            "75th Percentile of arr, axis = 0 :  [-0.25  3.25  0.75]\n",
            "\n",
            "Each Column:\n",
            "\n",
            "50th Percentile of arr, axis = 1 :  [ 1. -4.]\n",
            "25th Percentile of arr, axis = 1 :  [-0.5 -5. ]\n",
            "75th Percentile of arr, axis = 1 :  [2.  0.5]\n",
            "\n",
            "Flattened array:\n",
            "Mean:  -0.5\n",
            "Median:  -0.5\n",
            "std:  3.8622100754188224\n",
            "\n",
            "Each Column:\n",
            "Mean:  [-1.5  1.5 -1.5]\n",
            "Median:  [-1.5  1.5 -1.5]\n",
            "std:  [2.5 3.5 4.5]\n",
            "\n",
            "Each Row:\n",
            "Mean:  [ 0.66666667 -1.66666667]\n",
            "Median:  [ 1. -4.]\n",
            "std:  [2.05480467 4.78423336]\n"
          ]
        }
      ]
    },
    {
      "cell_type": "code",
      "source": [
        "a = np.array([-1.8, -1.6, -0.5, 0.5,1.6, 1.8, 3.0])\n",
        "print(\"\\nFloor:\", np.floor(a))\n",
        "print(\"Ceiling: \",np.ceil(a))\n",
        "print(\"Truncate Value: \",np.trunc(a))\n",
        "print(\"Rounded Value: \",np.round(a))"
      ],
      "metadata": {
        "id": "E0NsXK0SK2o7",
        "colab": {
          "base_uri": "https://localhost:8080/"
        },
        "collapsed": true,
        "outputId": "a03af4d4-8103-48bc-fb95-4e323d5a48e1"
      },
      "execution_count": null,
      "outputs": [
        {
          "output_type": "stream",
          "name": "stdout",
          "text": [
            "\n",
            "Floor: [-2. -2. -1.  0.  1.  1.  3.]\n",
            "Ceiling:  [-1. -1. -0.  1.  2.  2.  3.]\n",
            "Truncate Value:  [-1. -1. -0.  0.  1.  1.  3.]\n",
            "Rounded Value:  [-2. -2. -0.  0.  2.  2.  3.]\n"
          ]
        }
      ]
    },
    {
      "cell_type": "code",
      "source": [
        "array = np.array([10, 52, 62, 16, 16, 54, 453])\n",
        "print(\"Array: \", array)\n",
        "sort_array=np.sort(array)\n",
        "print(\"Sorted Array:\", sort_array )\n",
        "print(\"Indices of Sorted Array: \", sort_array)\n",
        "print(\"4 smallest elements are: \", sort_array[:4] )\n",
        "print(\"5 largest elements are: \", sort_array[-5:] )\n"
      ],
      "metadata": {
        "colab": {
          "base_uri": "https://localhost:8080/"
        },
        "id": "s5hDO4jabRkY",
        "outputId": "a312d8e9-7704-4516-a993-ca24e6c6deab"
      },
      "execution_count": null,
      "outputs": [
        {
          "output_type": "stream",
          "name": "stdout",
          "text": [
            "Array:  [ 10  52  62  16  16  54 453]\n",
            "Sorted Array: [ 10  16  16  52  54  62 453]\n",
            "Indices of Sorted Array:  [ 10  16  16  52  54  62 453]\n",
            "4 smallest elements are:  [10 16 16 52]\n",
            "5 largest elements are:  [ 16  52  54  62 453]\n"
          ]
        }
      ]
    },
    {
      "cell_type": "code",
      "source": [
        "array = np.array([1.0, 1.2, 2.2, 2.0, 3.0, 2.0])\n",
        "\n",
        "integer_elements = array[array == np.floor(array)]\n",
        "print(\"Integer elements only:\", integer_elements)\n",
        "\n",
        "float_elements = array[array != np.floor(array)]\n",
        "print(\"Float elements only:\", float_elements)"
      ],
      "metadata": {
        "colab": {
          "base_uri": "https://localhost:8080/"
        },
        "id": "YGBiF06cdCDy",
        "outputId": "85154417-4af1-41e2-a990-6a57a4829e3b"
      },
      "execution_count": null,
      "outputs": [
        {
          "output_type": "stream",
          "name": "stdout",
          "text": [
            "Integer elements only: [1. 2. 3. 2.]\n",
            "Float elements only: [1.2 2.2]\n"
          ]
        }
      ]
    },
    {
      "cell_type": "code",
      "source": [
        "from PIL import Image"
      ],
      "metadata": {
        "id": "slqsZAV5eFHe"
      },
      "execution_count": 2,
      "outputs": []
    },
    {
      "cell_type": "code",
      "source": [
        "def img_to_array(path):\n",
        "    # Open the image file\n",
        "    img = Image.open(path)\n",
        "\n",
        "    # Convert image to numpy array\n",
        "    img_array = np.array(img)\n",
        "\n",
        "    print(img_array)\n",
        "\n",
        "    # Determine if the image is RGB or grayscale\n",
        "    if len(img_array.shape) == 3:  # RGB image\n",
        "        print(\"Image is RGB\")\n",
        "    elif len(img_array.shape) == 2:  # Grayscale image\n",
        "        print(\"Image is Grayscale\")\n",
        "    else:\n",
        "        raise ValueError(\"Unsupported image format\")\n",
        "\n",
        "    # Save the array to a text file\n",
        "    with open('image_array.txt', 'w') as file:\n",
        "        np.savetxt(file, img_array.flatten(), fmt='%d')\n",
        "\n",
        "    print(\"Image data has been saved to 'image_array.txt'\")\n",
        "\n",
        "img_to_array('download.jpg')"
      ],
      "metadata": {
        "colab": {
          "base_uri": "https://localhost:8080/"
        },
        "id": "Gf2uynVVIWzU",
        "outputId": "32ae789e-9989-44f1-a2f1-8f8109d9eed6"
      },
      "execution_count": 4,
      "outputs": [
        {
          "output_type": "stream",
          "name": "stdout",
          "text": [
            "[[[249 233 182]\n",
            "  [255 240 189]\n",
            "  [255 245 195]\n",
            "  ...\n",
            "  [248 240 203]\n",
            "  [255 248 206]\n",
            "  [248 241 195]]\n",
            "\n",
            " [[232 216 167]\n",
            "  [236 220 169]\n",
            "  [241 223 175]\n",
            "  ...\n",
            "  [219 211 172]\n",
            "  [255 255 214]\n",
            "  [243 235 188]]\n",
            "\n",
            " [[206 189 143]\n",
            "  [205 189 140]\n",
            "  [206 189 143]\n",
            "  ...\n",
            "  [193 184 141]\n",
            "  [249 238 192]\n",
            "  [255 246 195]]\n",
            "\n",
            " ...\n",
            "\n",
            " [[ 16   9   3]\n",
            "  [ 16   9   3]\n",
            "  [ 16   9   3]\n",
            "  ...\n",
            "  [ 74  86  14]\n",
            "  [ 77  84  14]\n",
            "  [ 77  83  11]]\n",
            "\n",
            " [[ 16   9   3]\n",
            "  [ 16   9   3]\n",
            "  [ 16   9   3]\n",
            "  ...\n",
            "  [ 76  88  16]\n",
            "  [ 80  87  17]\n",
            "  [ 80  86  14]]\n",
            "\n",
            " [[ 15   8   2]\n",
            "  [ 15   8   2]\n",
            "  [ 16   9   3]\n",
            "  ...\n",
            "  [ 80  92  20]\n",
            "  [ 85  92  22]\n",
            "  [ 85  91  19]]]\n",
            "Image is RGB\n",
            "Image data has been saved to 'image_array.txt'\n"
          ]
        }
      ]
    }
  ]
}